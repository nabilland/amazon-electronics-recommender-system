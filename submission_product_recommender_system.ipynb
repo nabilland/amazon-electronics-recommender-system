{
  "nbformat": 4,
  "nbformat_minor": 0,
  "metadata": {
    "colab": {
      "provenance": [],
      "toc_visible": true,
      "gpuType": "T4"
    },
    "kernelspec": {
      "name": "python3",
      "display_name": "Python 3"
    },
    "language_info": {
      "name": "python"
    },
    "accelerator": "GPU"
  },
  "cells": [
    {
      "cell_type": "markdown",
      "source": [
        "# Content-Based Product Recommender System for Amazon Electronics"
      ],
      "metadata": {
        "id": "EXFakIxVD9eu"
      }
    },
    {
      "cell_type": "markdown",
      "source": [
        "## Problem Statement"
      ],
      "metadata": {
        "id": "uopRiYliSMFA"
      }
    },
    {
      "cell_type": "markdown",
      "source": [
        "Dalam platform e-commerce dengan ribuan produk elektronik seperti Amazon, pengguna sering kali menghadapi kesulitan dalam menemukan produk yang sesuai dengan kebutuhan dan preferensi mereka. Ketika pengguna mengakses satu produk, tidak tersedia sistem yang secara otomatis menyarankan produk-produk serupa berdasarkan deskripsi, kategori, atau fitur lainnya.\n",
        "\n",
        "Ketiadaan sistem rekomendasi berbasis konten ini mengakibatkan pengalaman pengguna yang tidak optimal, terutama bagi pengguna baru yang belum memiliki histori interaksi. Selain itu, tanpa sistem pendukung rekomendasi, potensi konversi dan retensi pengguna menjadi lebih rendah karena pengguna harus menelusuri produk secara manual.\n",
        "\n",
        "Masalah ini menjadi semakin kompleks mengingat volume produk yang besar dan variasi fitur antarproduk. Oleh karena itu, diperlukan solusi sistem rekomendasi yang mampu menyarankan produk-produk serupa secara otomatis, berdasarkan informasi konten produk yang telah tersedia di platform."
      ],
      "metadata": {
        "id": "G33kOFP2SNod"
      }
    },
    {
      "cell_type": "markdown",
      "source": [
        "## Data Exploration & Preparation\n",
        "\n"
      ],
      "metadata": {
        "id": "z_QIUd4lFz92"
      }
    },
    {
      "cell_type": "markdown",
      "source": [
        "### Import Libraries"
      ],
      "metadata": {
        "id": "zAKZ9_siYkTA"
      }
    },
    {
      "cell_type": "code",
      "source": [
        "import pandas as pd\n",
        "import numpy as np\n",
        "from sklearn.feature_extraction.text import TfidfVectorizer\n",
        "from sklearn.metrics.pairwise import linear_kernel\n",
        "from sklearn.metrics import pairwise_distances\n",
        "from sklearn.preprocessing import MinMaxScaler\n",
        "from sklearn.metrics.pairwise import cosine_similarity\n",
        "import matplotlib.pyplot as plt\n",
        "import seaborn as sns\n",
        "import re"
      ],
      "metadata": {
        "id": "C3OoaSqoKloR"
      },
      "execution_count": 96,
      "outputs": []
    },
    {
      "cell_type": "markdown",
      "source": [
        "### Load Dataset"
      ],
      "metadata": {
        "id": "iQeJGJSQYwq9"
      }
    },
    {
      "cell_type": "markdown",
      "source": [
        "Dataset yang digunakan dalam proyek ini berjudul **\"Amazon Electronics Products 10k items - 2023\"**, yang diambil dari platform Kaggle:\n",
        "https://www.kaggle.com/datasets/akeshkumarhp/electronics-products-amazon-10k-items/data berisi 9.600 baris dan 10 kolom.\n",
        "\n",
        "Kolom:\n",
        "- Idx\n",
        "- Name\n",
        "- Main Category\n",
        "- Sub Category\n",
        "- Image\n",
        "- Link\n",
        "- Ratings\n",
        "- Num of Ratings\n",
        "- Discount Price\n",
        "- Actual"
      ],
      "metadata": {
        "id": "Syl7bxO97BDC"
      }
    },
    {
      "cell_type": "code",
      "source": [
        "from google.colab import drive\n",
        "drive.mount('/content/drive')"
      ],
      "metadata": {
        "colab": {
          "base_uri": "https://localhost:8080/"
        },
        "id": "cTSb6Hi8Bjpw",
        "outputId": "b182edc7-992a-40b9-9892-569d9eeefc6b"
      },
      "execution_count": 97,
      "outputs": [
        {
          "output_type": "stream",
          "name": "stdout",
          "text": [
            "Drive already mounted at /content/drive; to attempt to forcibly remount, call drive.mount(\"/content/drive\", force_remount=True).\n"
          ]
        }
      ]
    },
    {
      "cell_type": "code",
      "source": [
        "import zipfile\n",
        "\n",
        "zip_path = '/content/drive/MyDrive/Dicoding/recommender/dataset/amazon_electronics.zip'\n",
        "unzip_path = '/content/drive/MyDrive/Dicoding/recommender/dataset'\n",
        "\n",
        "with zipfile.ZipFile(zip_path, 'r') as zip_ref:\n",
        "    zip_ref.extractall(unzip_path)"
      ],
      "metadata": {
        "id": "L8lGCEVuBSkd"
      },
      "execution_count": 98,
      "outputs": []
    },
    {
      "cell_type": "code",
      "execution_count": 99,
      "metadata": {
        "colab": {
          "base_uri": "https://localhost:8080/",
          "height": 397
        },
        "id": "Q_z0tcPaD7AO",
        "outputId": "36dd2f40-5acc-4587-c01a-b3d50d0c7d73"
      },
      "outputs": [
        {
          "output_type": "execute_result",
          "data": {
            "text/plain": [
              "   Unnamed: 0                                               name  \\\n",
              "0           0  Redmi 10 Power (Power Black, 8GB RAM, 128GB St...   \n",
              "1           1  OnePlus Nord CE 2 Lite 5G (Blue Tide, 6GB RAM,...   \n",
              "2           2  OnePlus Bullets Z2 Bluetooth Wireless in Ear E...   \n",
              "3           3  Samsung Galaxy M33 5G (Mystique Green, 6GB, 12...   \n",
              "4           4  OnePlus Nord CE 2 Lite 5G (Black Dusk, 6GB RAM...   \n",
              "\n",
              "         main_category     sub_category  \\\n",
              "0  tv, audio & cameras  All Electronics   \n",
              "1  tv, audio & cameras  All Electronics   \n",
              "2  tv, audio & cameras  All Electronics   \n",
              "3  tv, audio & cameras  All Electronics   \n",
              "4  tv, audio & cameras  All Electronics   \n",
              "\n",
              "                                               image  \\\n",
              "0  https://m.media-amazon.com/images/I/81eM15lVcJ...   \n",
              "1  https://m.media-amazon.com/images/I/71AvQd3Vzq...   \n",
              "2  https://m.media-amazon.com/images/I/51UhwaQXCp...   \n",
              "3  https://m.media-amazon.com/images/I/81I3w4J6yj...   \n",
              "4  https://m.media-amazon.com/images/I/71V--WZVUI...   \n",
              "\n",
              "                                                link ratings no_of_ratings  \\\n",
              "0  https://www.amazon.in/Redmi-Power-Black-128GB-...     4.0           965   \n",
              "1  https://www.amazon.in/OnePlus-Nord-Lite-128GB-...     4.3       113,956   \n",
              "2  https://www.amazon.in/Oneplus-Bluetooth-Wirele...     4.2        90,304   \n",
              "3  https://www.amazon.in/Samsung-Mystique-Storage...     4.1        24,863   \n",
              "4  https://www.amazon.in/OnePlus-Nord-Black-128GB...     4.3       113,956   \n",
              "\n",
              "  discount_price actual_price  \n",
              "0        ₹10,999      ₹18,999  \n",
              "1        ₹18,999      ₹19,999  \n",
              "2         ₹1,999       ₹2,299  \n",
              "3        ₹15,999      ₹24,999  \n",
              "4        ₹18,999      ₹19,999  "
            ],
            "text/html": [
              "\n",
              "  <div id=\"df-01c09699-37ee-4c0f-997b-b24763f108ad\" class=\"colab-df-container\">\n",
              "    <div>\n",
              "<style scoped>\n",
              "    .dataframe tbody tr th:only-of-type {\n",
              "        vertical-align: middle;\n",
              "    }\n",
              "\n",
              "    .dataframe tbody tr th {\n",
              "        vertical-align: top;\n",
              "    }\n",
              "\n",
              "    .dataframe thead th {\n",
              "        text-align: right;\n",
              "    }\n",
              "</style>\n",
              "<table border=\"1\" class=\"dataframe\">\n",
              "  <thead>\n",
              "    <tr style=\"text-align: right;\">\n",
              "      <th></th>\n",
              "      <th>Unnamed: 0</th>\n",
              "      <th>name</th>\n",
              "      <th>main_category</th>\n",
              "      <th>sub_category</th>\n",
              "      <th>image</th>\n",
              "      <th>link</th>\n",
              "      <th>ratings</th>\n",
              "      <th>no_of_ratings</th>\n",
              "      <th>discount_price</th>\n",
              "      <th>actual_price</th>\n",
              "    </tr>\n",
              "  </thead>\n",
              "  <tbody>\n",
              "    <tr>\n",
              "      <th>0</th>\n",
              "      <td>0</td>\n",
              "      <td>Redmi 10 Power (Power Black, 8GB RAM, 128GB St...</td>\n",
              "      <td>tv, audio &amp; cameras</td>\n",
              "      <td>All Electronics</td>\n",
              "      <td>https://m.media-amazon.com/images/I/81eM15lVcJ...</td>\n",
              "      <td>https://www.amazon.in/Redmi-Power-Black-128GB-...</td>\n",
              "      <td>4.0</td>\n",
              "      <td>965</td>\n",
              "      <td>₹10,999</td>\n",
              "      <td>₹18,999</td>\n",
              "    </tr>\n",
              "    <tr>\n",
              "      <th>1</th>\n",
              "      <td>1</td>\n",
              "      <td>OnePlus Nord CE 2 Lite 5G (Blue Tide, 6GB RAM,...</td>\n",
              "      <td>tv, audio &amp; cameras</td>\n",
              "      <td>All Electronics</td>\n",
              "      <td>https://m.media-amazon.com/images/I/71AvQd3Vzq...</td>\n",
              "      <td>https://www.amazon.in/OnePlus-Nord-Lite-128GB-...</td>\n",
              "      <td>4.3</td>\n",
              "      <td>113,956</td>\n",
              "      <td>₹18,999</td>\n",
              "      <td>₹19,999</td>\n",
              "    </tr>\n",
              "    <tr>\n",
              "      <th>2</th>\n",
              "      <td>2</td>\n",
              "      <td>OnePlus Bullets Z2 Bluetooth Wireless in Ear E...</td>\n",
              "      <td>tv, audio &amp; cameras</td>\n",
              "      <td>All Electronics</td>\n",
              "      <td>https://m.media-amazon.com/images/I/51UhwaQXCp...</td>\n",
              "      <td>https://www.amazon.in/Oneplus-Bluetooth-Wirele...</td>\n",
              "      <td>4.2</td>\n",
              "      <td>90,304</td>\n",
              "      <td>₹1,999</td>\n",
              "      <td>₹2,299</td>\n",
              "    </tr>\n",
              "    <tr>\n",
              "      <th>3</th>\n",
              "      <td>3</td>\n",
              "      <td>Samsung Galaxy M33 5G (Mystique Green, 6GB, 12...</td>\n",
              "      <td>tv, audio &amp; cameras</td>\n",
              "      <td>All Electronics</td>\n",
              "      <td>https://m.media-amazon.com/images/I/81I3w4J6yj...</td>\n",
              "      <td>https://www.amazon.in/Samsung-Mystique-Storage...</td>\n",
              "      <td>4.1</td>\n",
              "      <td>24,863</td>\n",
              "      <td>₹15,999</td>\n",
              "      <td>₹24,999</td>\n",
              "    </tr>\n",
              "    <tr>\n",
              "      <th>4</th>\n",
              "      <td>4</td>\n",
              "      <td>OnePlus Nord CE 2 Lite 5G (Black Dusk, 6GB RAM...</td>\n",
              "      <td>tv, audio &amp; cameras</td>\n",
              "      <td>All Electronics</td>\n",
              "      <td>https://m.media-amazon.com/images/I/71V--WZVUI...</td>\n",
              "      <td>https://www.amazon.in/OnePlus-Nord-Black-128GB...</td>\n",
              "      <td>4.3</td>\n",
              "      <td>113,956</td>\n",
              "      <td>₹18,999</td>\n",
              "      <td>₹19,999</td>\n",
              "    </tr>\n",
              "  </tbody>\n",
              "</table>\n",
              "</div>\n",
              "    <div class=\"colab-df-buttons\">\n",
              "\n",
              "  <div class=\"colab-df-container\">\n",
              "    <button class=\"colab-df-convert\" onclick=\"convertToInteractive('df-01c09699-37ee-4c0f-997b-b24763f108ad')\"\n",
              "            title=\"Convert this dataframe to an interactive table.\"\n",
              "            style=\"display:none;\">\n",
              "\n",
              "  <svg xmlns=\"http://www.w3.org/2000/svg\" height=\"24px\" viewBox=\"0 -960 960 960\">\n",
              "    <path d=\"M120-120v-720h720v720H120Zm60-500h600v-160H180v160Zm220 220h160v-160H400v160Zm0 220h160v-160H400v160ZM180-400h160v-160H180v160Zm440 0h160v-160H620v160ZM180-180h160v-160H180v160Zm440 0h160v-160H620v160Z\"/>\n",
              "  </svg>\n",
              "    </button>\n",
              "\n",
              "  <style>\n",
              "    .colab-df-container {\n",
              "      display:flex;\n",
              "      gap: 12px;\n",
              "    }\n",
              "\n",
              "    .colab-df-convert {\n",
              "      background-color: #E8F0FE;\n",
              "      border: none;\n",
              "      border-radius: 50%;\n",
              "      cursor: pointer;\n",
              "      display: none;\n",
              "      fill: #1967D2;\n",
              "      height: 32px;\n",
              "      padding: 0 0 0 0;\n",
              "      width: 32px;\n",
              "    }\n",
              "\n",
              "    .colab-df-convert:hover {\n",
              "      background-color: #E2EBFA;\n",
              "      box-shadow: 0px 1px 2px rgba(60, 64, 67, 0.3), 0px 1px 3px 1px rgba(60, 64, 67, 0.15);\n",
              "      fill: #174EA6;\n",
              "    }\n",
              "\n",
              "    .colab-df-buttons div {\n",
              "      margin-bottom: 4px;\n",
              "    }\n",
              "\n",
              "    [theme=dark] .colab-df-convert {\n",
              "      background-color: #3B4455;\n",
              "      fill: #D2E3FC;\n",
              "    }\n",
              "\n",
              "    [theme=dark] .colab-df-convert:hover {\n",
              "      background-color: #434B5C;\n",
              "      box-shadow: 0px 1px 3px 1px rgba(0, 0, 0, 0.15);\n",
              "      filter: drop-shadow(0px 1px 2px rgba(0, 0, 0, 0.3));\n",
              "      fill: #FFFFFF;\n",
              "    }\n",
              "  </style>\n",
              "\n",
              "    <script>\n",
              "      const buttonEl =\n",
              "        document.querySelector('#df-01c09699-37ee-4c0f-997b-b24763f108ad button.colab-df-convert');\n",
              "      buttonEl.style.display =\n",
              "        google.colab.kernel.accessAllowed ? 'block' : 'none';\n",
              "\n",
              "      async function convertToInteractive(key) {\n",
              "        const element = document.querySelector('#df-01c09699-37ee-4c0f-997b-b24763f108ad');\n",
              "        const dataTable =\n",
              "          await google.colab.kernel.invokeFunction('convertToInteractive',\n",
              "                                                    [key], {});\n",
              "        if (!dataTable) return;\n",
              "\n",
              "        const docLinkHtml = 'Like what you see? Visit the ' +\n",
              "          '<a target=\"_blank\" href=https://colab.research.google.com/notebooks/data_table.ipynb>data table notebook</a>'\n",
              "          + ' to learn more about interactive tables.';\n",
              "        element.innerHTML = '';\n",
              "        dataTable['output_type'] = 'display_data';\n",
              "        await google.colab.output.renderOutput(dataTable, element);\n",
              "        const docLink = document.createElement('div');\n",
              "        docLink.innerHTML = docLinkHtml;\n",
              "        element.appendChild(docLink);\n",
              "      }\n",
              "    </script>\n",
              "  </div>\n",
              "\n",
              "\n",
              "    <div id=\"df-59392849-33a7-4c79-bb53-47911b73de76\">\n",
              "      <button class=\"colab-df-quickchart\" onclick=\"quickchart('df-59392849-33a7-4c79-bb53-47911b73de76')\"\n",
              "                title=\"Suggest charts\"\n",
              "                style=\"display:none;\">\n",
              "\n",
              "<svg xmlns=\"http://www.w3.org/2000/svg\" height=\"24px\"viewBox=\"0 0 24 24\"\n",
              "     width=\"24px\">\n",
              "    <g>\n",
              "        <path d=\"M19 3H5c-1.1 0-2 .9-2 2v14c0 1.1.9 2 2 2h14c1.1 0 2-.9 2-2V5c0-1.1-.9-2-2-2zM9 17H7v-7h2v7zm4 0h-2V7h2v10zm4 0h-2v-4h2v4z\"/>\n",
              "    </g>\n",
              "</svg>\n",
              "      </button>\n",
              "\n",
              "<style>\n",
              "  .colab-df-quickchart {\n",
              "      --bg-color: #E8F0FE;\n",
              "      --fill-color: #1967D2;\n",
              "      --hover-bg-color: #E2EBFA;\n",
              "      --hover-fill-color: #174EA6;\n",
              "      --disabled-fill-color: #AAA;\n",
              "      --disabled-bg-color: #DDD;\n",
              "  }\n",
              "\n",
              "  [theme=dark] .colab-df-quickchart {\n",
              "      --bg-color: #3B4455;\n",
              "      --fill-color: #D2E3FC;\n",
              "      --hover-bg-color: #434B5C;\n",
              "      --hover-fill-color: #FFFFFF;\n",
              "      --disabled-bg-color: #3B4455;\n",
              "      --disabled-fill-color: #666;\n",
              "  }\n",
              "\n",
              "  .colab-df-quickchart {\n",
              "    background-color: var(--bg-color);\n",
              "    border: none;\n",
              "    border-radius: 50%;\n",
              "    cursor: pointer;\n",
              "    display: none;\n",
              "    fill: var(--fill-color);\n",
              "    height: 32px;\n",
              "    padding: 0;\n",
              "    width: 32px;\n",
              "  }\n",
              "\n",
              "  .colab-df-quickchart:hover {\n",
              "    background-color: var(--hover-bg-color);\n",
              "    box-shadow: 0 1px 2px rgba(60, 64, 67, 0.3), 0 1px 3px 1px rgba(60, 64, 67, 0.15);\n",
              "    fill: var(--button-hover-fill-color);\n",
              "  }\n",
              "\n",
              "  .colab-df-quickchart-complete:disabled,\n",
              "  .colab-df-quickchart-complete:disabled:hover {\n",
              "    background-color: var(--disabled-bg-color);\n",
              "    fill: var(--disabled-fill-color);\n",
              "    box-shadow: none;\n",
              "  }\n",
              "\n",
              "  .colab-df-spinner {\n",
              "    border: 2px solid var(--fill-color);\n",
              "    border-color: transparent;\n",
              "    border-bottom-color: var(--fill-color);\n",
              "    animation:\n",
              "      spin 1s steps(1) infinite;\n",
              "  }\n",
              "\n",
              "  @keyframes spin {\n",
              "    0% {\n",
              "      border-color: transparent;\n",
              "      border-bottom-color: var(--fill-color);\n",
              "      border-left-color: var(--fill-color);\n",
              "    }\n",
              "    20% {\n",
              "      border-color: transparent;\n",
              "      border-left-color: var(--fill-color);\n",
              "      border-top-color: var(--fill-color);\n",
              "    }\n",
              "    30% {\n",
              "      border-color: transparent;\n",
              "      border-left-color: var(--fill-color);\n",
              "      border-top-color: var(--fill-color);\n",
              "      border-right-color: var(--fill-color);\n",
              "    }\n",
              "    40% {\n",
              "      border-color: transparent;\n",
              "      border-right-color: var(--fill-color);\n",
              "      border-top-color: var(--fill-color);\n",
              "    }\n",
              "    60% {\n",
              "      border-color: transparent;\n",
              "      border-right-color: var(--fill-color);\n",
              "    }\n",
              "    80% {\n",
              "      border-color: transparent;\n",
              "      border-right-color: var(--fill-color);\n",
              "      border-bottom-color: var(--fill-color);\n",
              "    }\n",
              "    90% {\n",
              "      border-color: transparent;\n",
              "      border-bottom-color: var(--fill-color);\n",
              "    }\n",
              "  }\n",
              "</style>\n",
              "\n",
              "      <script>\n",
              "        async function quickchart(key) {\n",
              "          const quickchartButtonEl =\n",
              "            document.querySelector('#' + key + ' button');\n",
              "          quickchartButtonEl.disabled = true;  // To prevent multiple clicks.\n",
              "          quickchartButtonEl.classList.add('colab-df-spinner');\n",
              "          try {\n",
              "            const charts = await google.colab.kernel.invokeFunction(\n",
              "                'suggestCharts', [key], {});\n",
              "          } catch (error) {\n",
              "            console.error('Error during call to suggestCharts:', error);\n",
              "          }\n",
              "          quickchartButtonEl.classList.remove('colab-df-spinner');\n",
              "          quickchartButtonEl.classList.add('colab-df-quickchart-complete');\n",
              "        }\n",
              "        (() => {\n",
              "          let quickchartButtonEl =\n",
              "            document.querySelector('#df-59392849-33a7-4c79-bb53-47911b73de76 button');\n",
              "          quickchartButtonEl.style.display =\n",
              "            google.colab.kernel.accessAllowed ? 'block' : 'none';\n",
              "        })();\n",
              "      </script>\n",
              "    </div>\n",
              "\n",
              "    </div>\n",
              "  </div>\n"
            ],
            "application/vnd.google.colaboratory.intrinsic+json": {
              "type": "dataframe",
              "variable_name": "df",
              "summary": "{\n  \"name\": \"df\",\n  \"rows\": 9600,\n  \"fields\": [\n    {\n      \"column\": \"Unnamed: 0\",\n      \"properties\": {\n        \"dtype\": \"number\",\n        \"std\": 2771,\n        \"min\": 0,\n        \"max\": 9599,\n        \"num_unique_values\": 9600,\n        \"samples\": [\n          1318,\n          9504,\n          7222\n        ],\n        \"semantic_type\": \"\",\n        \"description\": \"\"\n      }\n    },\n    {\n      \"column\": \"name\",\n      \"properties\": {\n        \"dtype\": \"string\",\n        \"num_unique_values\": 8800,\n        \"samples\": [\n          \"Dell MS116 1000Dpi USB Wired Optical Mouse, Led Tracking, Scrolling Wheel, Plug and Play.\",\n          \"Vantro Car Power Inverter 200W with 4 USB & 2 AC Port with Digital Display and QC3.0\",\n          \"Saregama Carvaan Premium- Portable Music Player with 5000 Preloaded Songs, FM/BT/AUX (Oakwood Brown)\"\n        ],\n        \"semantic_type\": \"\",\n        \"description\": \"\"\n      }\n    },\n    {\n      \"column\": \"main_category\",\n      \"properties\": {\n        \"dtype\": \"category\",\n        \"num_unique_values\": 1,\n        \"samples\": [\n          \"tv, audio & cameras\"\n        ],\n        \"semantic_type\": \"\",\n        \"description\": \"\"\n      }\n    },\n    {\n      \"column\": \"sub_category\",\n      \"properties\": {\n        \"dtype\": \"category\",\n        \"num_unique_values\": 1,\n        \"samples\": [\n          \"All Electronics\"\n        ],\n        \"semantic_type\": \"\",\n        \"description\": \"\"\n      }\n    },\n    {\n      \"column\": \"image\",\n      \"properties\": {\n        \"dtype\": \"string\",\n        \"num_unique_values\": 8992,\n        \"samples\": [\n          \"https://m.media-amazon.com/images/I/71gGVdNzeDL._AC_UL800_.jpg\"\n        ],\n        \"semantic_type\": \"\",\n        \"description\": \"\"\n      }\n    },\n    {\n      \"column\": \"link\",\n      \"properties\": {\n        \"dtype\": \"string\",\n        \"num_unique_values\": 9600,\n        \"samples\": [\n          \"https://www.amazon.in/Sony-MDR-XB55AP-Extra-Headphone-Black/dp/B073JPC6R3/ref=sr_1_1321?qid=1679133731&s=electronics&sr=1-1321\"\n        ],\n        \"semantic_type\": \"\",\n        \"description\": \"\"\n      }\n    },\n    {\n      \"column\": \"ratings\",\n      \"properties\": {\n        \"dtype\": \"category\",\n        \"num_unique_values\": 39,\n        \"samples\": [\n          \"2.1\"\n        ],\n        \"semantic_type\": \"\",\n        \"description\": \"\"\n      }\n    },\n    {\n      \"column\": \"no_of_ratings\",\n      \"properties\": {\n        \"dtype\": \"category\",\n        \"num_unique_values\": 3455,\n        \"samples\": [\n          \"23\"\n        ],\n        \"semantic_type\": \"\",\n        \"description\": \"\"\n      }\n    },\n    {\n      \"column\": \"discount_price\",\n      \"properties\": {\n        \"dtype\": \"category\",\n        \"num_unique_values\": 1608,\n        \"samples\": [\n          \"\\u20b93,999\"\n        ],\n        \"semantic_type\": \"\",\n        \"description\": \"\"\n      }\n    },\n    {\n      \"column\": \"actual_price\",\n      \"properties\": {\n        \"dtype\": \"category\",\n        \"num_unique_values\": 1068,\n        \"samples\": [\n          \"\\u20b91,034\"\n        ],\n        \"semantic_type\": \"\",\n        \"description\": \"\"\n      }\n    }\n  ]\n}"
            }
          },
          "metadata": {},
          "execution_count": 99
        }
      ],
      "source": [
        "df = pd.read_csv('/content/drive/MyDrive/Dicoding/recommender/dataset/electronics_product.csv')\n",
        "df.head()"
      ]
    },
    {
      "cell_type": "markdown",
      "source": [
        "### Drop Irrelevant Columns"
      ],
      "metadata": {
        "id": "MG93b4UzFZNS"
      }
    },
    {
      "cell_type": "markdown",
      "source": [
        "Pada tahap ini, kolom Unnamed: 0, image, dan link dihapus karena tidak memberikan kontribusi berarti terhadap proses rekomendasi. Penghapusan dilakukan untuk menyederhanakan data dan memfokuskan analisis pada fitur-fitur yang relevan."
      ],
      "metadata": {
        "id": "S_sZNGTPbnJu"
      }
    },
    {
      "cell_type": "code",
      "source": [
        "df.drop(columns=['Unnamed: 0', 'image', 'link'], inplace=True)"
      ],
      "metadata": {
        "id": "Q9ZDiKcoFYNJ"
      },
      "execution_count": 100,
      "outputs": []
    },
    {
      "cell_type": "markdown",
      "source": [
        "### Number of rows and columns"
      ],
      "metadata": {
        "id": "neeNcKHLJjmm"
      }
    },
    {
      "cell_type": "markdown",
      "source": [
        "Dataset terdiri dari 9.600 baris dan 11 kolom.\n",
        "\n"
      ],
      "metadata": {
        "id": "Z9oevxXiLO7U"
      }
    },
    {
      "cell_type": "code",
      "source": [
        "# Mengecek jumlah baris dan kolom\n",
        "print(df.shape)"
      ],
      "metadata": {
        "colab": {
          "base_uri": "https://localhost:8080/"
        },
        "id": "Efz2pNQ9qCbJ",
        "outputId": "29afa943-c8ad-4c06-f215-92cb94806efc"
      },
      "execution_count": 101,
      "outputs": [
        {
          "output_type": "stream",
          "name": "stdout",
          "text": [
            "(9600, 7)\n"
          ]
        }
      ]
    },
    {
      "cell_type": "markdown",
      "source": [
        "### Data type of each column"
      ],
      "metadata": {
        "id": "mFEKj39rJ6UZ"
      }
    },
    {
      "cell_type": "markdown",
      "source": [
        "Pemeriksaan tipe data untuk setiap kolom dilakukan guna memastikan bahwa masing-masing fitur memiliki format yang sesuai sebelum dilakukan preprocessing lebih lanjut."
      ],
      "metadata": {
        "id": "nkTTlkJ_cAJM"
      }
    },
    {
      "cell_type": "code",
      "source": [
        "# Mengecek tipe data tiap kolom\n",
        "print(df.dtypes)"
      ],
      "metadata": {
        "colab": {
          "base_uri": "https://localhost:8080/"
        },
        "id": "adVT5tyPwSwo",
        "outputId": "dc64f097-3c12-479d-d49b-73a13df969fc"
      },
      "execution_count": 102,
      "outputs": [
        {
          "output_type": "stream",
          "name": "stdout",
          "text": [
            "name              object\n",
            "main_category     object\n",
            "sub_category      object\n",
            "ratings           object\n",
            "no_of_ratings     object\n",
            "discount_price    object\n",
            "actual_price      object\n",
            "dtype: object\n"
          ]
        }
      ]
    },
    {
      "cell_type": "markdown",
      "source": [
        "### Checking for missing values"
      ],
      "metadata": {
        "id": "S8STqhOXJ7ge"
      }
    },
    {
      "cell_type": "markdown",
      "source": [
        "Pemeriksaan missing values dilakukan untuk mengidentifikasi kolom yang memiliki data kosong, sehingga dapat ditentukan strategi penanganan yang sesuai demi menjaga kualitas data."
      ],
      "metadata": {
        "id": "Ng0PS_15cDvo"
      }
    },
    {
      "cell_type": "code",
      "source": [
        "# Mengecek nilai yang hilang\n",
        "print(df.isnull().sum())"
      ],
      "metadata": {
        "colab": {
          "base_uri": "https://localhost:8080/"
        },
        "id": "GaiNAQbwwT3s",
        "outputId": "281bb340-9be5-4357-9bf8-5c608300605f"
      },
      "execution_count": 103,
      "outputs": [
        {
          "output_type": "stream",
          "name": "stdout",
          "text": [
            "name                0\n",
            "main_category       0\n",
            "sub_category        0\n",
            "ratings            95\n",
            "no_of_ratings      95\n",
            "discount_price    484\n",
            "actual_price       70\n",
            "dtype: int64\n"
          ]
        }
      ]
    },
    {
      "cell_type": "markdown",
      "source": [
        "Selanjutnya, dilakukan pembersihan simbol ₹ dan tanda koma (,) pada kolom harga agar dapat dikonversi ke tipe numerik. Langkah ini diperlukan untuk mendukung analisis distribusi dan evaluasi harga produk.\n",
        "\n",
        "Selain itu, kolom ratings dan no_of_ratings juga diubah ke dalam tipe numerik guna memungkinkan analisis dan evaluasi kualitas produk yang direkomendasikan secara kuantitatif."
      ],
      "metadata": {
        "id": "6NuvgFA7LYum"
      }
    },
    {
      "cell_type": "code",
      "source": [
        "# Bersihkan kolom harga\n",
        "for col in ['discount_price', 'actual_price']:\n",
        "    df[col] = df[col].str.replace('₹', '', regex=False).str.replace(',', '', regex=False)\n",
        "    df[col] = pd.to_numeric(df[col], errors='coerce')\n",
        "\n",
        "# Bersihkan kolom ratings & no_of_ratings\n",
        "df['ratings'] = pd.to_numeric(df['ratings'], errors='coerce')\n",
        "df['no_of_ratings'] = df['no_of_ratings'].str.replace(',', '', regex=False)\n",
        "df['no_of_ratings'] = pd.to_numeric(df['no_of_ratings'], errors='coerce')\n",
        "\n",
        "# Hapus missing values\n",
        "df.dropna(subset=['name', 'main_category', 'sub_category'], inplace=True)"
      ],
      "metadata": {
        "id": "CxbrMg2xGAbo"
      },
      "execution_count": 104,
      "outputs": []
    },
    {
      "cell_type": "code",
      "source": [
        "# Reset index\n",
        "df.reset_index(drop=True, inplace=True)"
      ],
      "metadata": {
        "id": "a6siZPFCGFd0"
      },
      "execution_count": 105,
      "outputs": []
    },
    {
      "cell_type": "code",
      "source": [
        "# Isi nilai yang hilang di rating dengan 0\n",
        "df['ratings'].fillna(0, inplace=True)\n",
        "df['no_of_ratings'].fillna(0, inplace=True)"
      ],
      "metadata": {
        "colab": {
          "base_uri": "https://localhost:8080/"
        },
        "collapsed": true,
        "id": "2WjmAuyPGbVD",
        "outputId": "908a4023-4368-4e89-c6f1-f9399ae9dcb2"
      },
      "execution_count": 106,
      "outputs": [
        {
          "output_type": "stream",
          "name": "stderr",
          "text": [
            "/tmp/ipython-input-106-1501388586.py:2: FutureWarning: A value is trying to be set on a copy of a DataFrame or Series through chained assignment using an inplace method.\n",
            "The behavior will change in pandas 3.0. This inplace method will never work because the intermediate object on which we are setting values always behaves as a copy.\n",
            "\n",
            "For example, when doing 'df[col].method(value, inplace=True)', try using 'df.method({col: value}, inplace=True)' or df[col] = df[col].method(value) instead, to perform the operation inplace on the original object.\n",
            "\n",
            "\n",
            "  df['ratings'].fillna(0, inplace=True)\n",
            "/tmp/ipython-input-106-1501388586.py:3: FutureWarning: A value is trying to be set on a copy of a DataFrame or Series through chained assignment using an inplace method.\n",
            "The behavior will change in pandas 3.0. This inplace method will never work because the intermediate object on which we are setting values always behaves as a copy.\n",
            "\n",
            "For example, when doing 'df[col].method(value, inplace=True)', try using 'df.method({col: value}, inplace=True)' or df[col] = df[col].method(value) instead, to perform the operation inplace on the original object.\n",
            "\n",
            "\n",
            "  df['no_of_ratings'].fillna(0, inplace=True)\n"
          ]
        }
      ]
    },
    {
      "cell_type": "code",
      "source": [
        "# Mengecek nilai yang hilang\n",
        "print(df.isnull().sum())"
      ],
      "metadata": {
        "colab": {
          "base_uri": "https://localhost:8080/"
        },
        "id": "q5W7Shk0GXtd",
        "outputId": "2ea26394-1f0d-4185-d6f7-fd3e13791d3a"
      },
      "execution_count": 107,
      "outputs": [
        {
          "output_type": "stream",
          "name": "stdout",
          "text": [
            "name                0\n",
            "main_category       0\n",
            "sub_category        0\n",
            "ratings             0\n",
            "no_of_ratings       0\n",
            "discount_price    484\n",
            "actual_price       70\n",
            "dtype: int64\n"
          ]
        }
      ]
    },
    {
      "cell_type": "markdown",
      "source": [
        "## Exploratory Data Analysis (EDA)"
      ],
      "metadata": {
        "id": "4ujAic31GiKz"
      }
    },
    {
      "cell_type": "markdown",
      "source": [
        "### Distribusi Rating"
      ],
      "metadata": {
        "id": "oAoPEDq1LtzA"
      }
    },
    {
      "cell_type": "markdown",
      "source": [
        "Visualisasi distribusi rating digunakan untuk memahami persebaran kualitas produk berdasarkan ulasan pengguna, serta mengidentifikasi kecenderungan rating tinggi atau rendah dalam dataset."
      ],
      "metadata": {
        "id": "tpLEFkheL34I"
      }
    },
    {
      "cell_type": "code",
      "source": [
        "plt.figure(figsize=(8,5))\n",
        "sns.histplot(df['ratings'], bins=20, kde=True)\n",
        "plt.title('Distribusi Rating Produk')\n",
        "plt.show()"
      ],
      "metadata": {
        "colab": {
          "base_uri": "https://localhost:8080/",
          "height": 487
        },
        "id": "8dWjIippq6vd",
        "outputId": "31a62cb3-ced0-4f46-bdb3-bb3bd7211fef"
      },
      "execution_count": 108,
      "outputs": [
        {
          "output_type": "display_data",
          "data": {
            "text/plain": [
              "<Figure size 800x500 with 1 Axes>"
            ],
            "image/png": "[encoded data removed]"
          },
          "metadata": {}
        }
      ]
    },
    {
      "cell_type": "markdown",
      "source": [
        "### Distribusi Harga Setelah Diskon"
      ],
      "metadata": {
        "id": "eDwYMb3fL6Bd"
      }
    },
    {
      "cell_type": "markdown",
      "source": [
        "Visualisasi distribusi harga setelah diskon bertujuan untuk memahami rentang harga produk yang tersedia serta mengidentifikasi tren harga pasar, seperti dominasi produk harga rendah atau premium."
      ],
      "metadata": {
        "id": "aWZkbF74L9YB"
      }
    },
    {
      "cell_type": "code",
      "source": [
        "plt.figure(figsize=(8,5))\n",
        "sns.histplot(df['discount_price'].dropna(), bins=30, kde=True)\n",
        "plt.title('Distribusi Harga Diskon Produk')\n",
        "plt.show()"
      ],
      "metadata": {
        "colab": {
          "base_uri": "https://localhost:8080/",
          "height": 487
        },
        "id": "QvBKKpg4Gpmb",
        "outputId": "87fd5791-8955-47b1-bf89-a63bcfe4bb19"
      },
      "execution_count": 109,
      "outputs": [
        {
          "output_type": "display_data",
          "data": {
            "text/plain": [
              "<Figure size 800x500 with 1 Axes>"
            ],
            "image/png": "[encoded data removed]"
          },
          "metadata": {}
        }
      ]
    },
    {
      "cell_type": "markdown",
      "source": [
        "### Kategori Produk Terpopuler"
      ],
      "metadata": {
        "id": "BZGPXJ0eMNHM"
      }
    },
    {
      "cell_type": "markdown",
      "source": [
        "Analisis kategori terpopuler dilakukan untuk memvalidasi apakah hasil rekomendasi selaras dengan tren pasar atau kategori yang paling diminati pengguna, sehingga relevansi rekomendasi dapat lebih terjamin."
      ],
      "metadata": {
        "id": "Wfe47XyOMQ4M"
      }
    },
    {
      "cell_type": "code",
      "source": [
        "# Cek top kategori\n",
        "print(\"Top kategori utama:\\n\", df['main_category'].value_counts().head())"
      ],
      "metadata": {
        "colab": {
          "base_uri": "https://localhost:8080/"
        },
        "id": "QZEI5HxGGqWi",
        "outputId": "4663bb55-3c7a-4a69-baad-a8d38be02a5f"
      },
      "execution_count": 110,
      "outputs": [
        {
          "output_type": "stream",
          "name": "stdout",
          "text": [
            "Top kategori utama:\n",
            " main_category\n",
            "tv, audio & cameras    9600\n",
            "Name: count, dtype: int64\n"
          ]
        }
      ]
    },
    {
      "cell_type": "markdown",
      "source": [
        "## Feature Engineering"
      ],
      "metadata": {
        "id": "VOb94jlFGup_"
      }
    },
    {
      "cell_type": "markdown",
      "source": [
        "Tahap feature engineering dilakukan dengan menggabungkan fitur-fitur penting seperti nama produk, kategori utama, dan sub-kategori ke dalam satu representasi teks. Hal ini diperlukan agar model dapat menghitung kemiripan antar produk berdasarkan konten deskriptifnya dalam pendekatan content-based filtering."
      ],
      "metadata": {
        "id": "uOQhf5Y8MYiB"
      }
    },
    {
      "cell_type": "code",
      "source": [
        "# Gabungkan beberapa fitur menjadi satu string\n",
        "df['combined_features'] = (\n",
        "    df['name'].astype(str) + ' ' +\n",
        "    df['main_category'].astype(str) + ' ' +\n",
        "    df['sub_category'].astype(str)\n",
        ")"
      ],
      "metadata": {
        "id": "bQELkVZgGtcP"
      },
      "execution_count": 111,
      "outputs": []
    },
    {
      "cell_type": "markdown",
      "source": [
        "## Vectorizer & Similarity"
      ],
      "metadata": {
        "id": "mFtx4K0lG3hE"
      }
    },
    {
      "cell_type": "markdown",
      "source": [
        "Tahap vectorization dan perhitungan kemiripan dilakukan dengan mengubah teks hasil feature engineering menjadi representasi vektor menggunakan TF-IDF Vectorizer. Proses ini disertai dengan penghapusan stopwords agar fokus analisis tertuju pada kata-kata yang bermakna. Setelah itu, digunakan metrik Cosine Similarity untuk mengukur derajat kemiripan antar produk. Hasil akhirnya berupa matriks berukuran N × N yang merepresentasikan skor kemiripan antara setiap pasangan produk dalam dataset."
      ],
      "metadata": {
        "id": "a-YWZg1KMlM_"
      }
    },
    {
      "cell_type": "code",
      "source": [
        "tfidf = TfidfVectorizer(stop_words='english')\n",
        "tfidf_matrix = tfidf.fit_transform(df['combined_features'])\n",
        "\n",
        "cosine_sim = cosine_similarity(tfidf_matrix)"
      ],
      "metadata": {
        "id": "1F6n_v4PG6P5"
      },
      "execution_count": 112,
      "outputs": []
    },
    {
      "cell_type": "markdown",
      "source": [
        "## Recommendation"
      ],
      "metadata": {
        "id": "sUk38zAyHGbi"
      }
    },
    {
      "cell_type": "markdown",
      "source": [
        "Tahap recommendation dilakukan dengan mencari indeks produk berdasarkan nama input yang diberikan oleh pengguna. Selanjutnya, sistem menghitung kemiripan produk tersebut terhadap seluruh produk dalam dataset menggunakan skor Cosine Similarity. Lima produk dengan skor tertinggi (selain produk itu sendiri) dipilih sebagai rekomendasi. Output berupa tabel berisi nama produk, kategori utama, subkategori, rating, dan harga diskon, yang ditampilkan sebagai hasil rekomendasi."
      ],
      "metadata": {
        "id": "aqy64TZzNCe9"
      }
    },
    {
      "cell_type": "code",
      "source": [
        "def recommend_products(product_name, df=df, sim_matrix=cosine_sim, top_n=5):\n",
        "    escaped_name = re.escape(product_name)\n",
        "    idx = df[df['name'].str.contains(escaped_name, case=False, na=False, regex=True)].index\n",
        "\n",
        "    if len(idx) == 0:\n",
        "        return f\"Produk dengan nama '{product_name}' tidak ditemukan.\"\n",
        "\n",
        "    idx = idx[0]\n",
        "    sim_scores = list(enumerate(sim_matrix[idx]))\n",
        "    sim_scores = sorted(sim_scores, key=lambda x: x[1], reverse=True)\n",
        "    sim_scores = sim_scores[1:top_n+1]\n",
        "\n",
        "    product_indices = [i[0] for i in sim_scores]\n",
        "    return df[['name', 'main_category', 'sub_category', 'ratings', 'discount_price']].iloc[product_indices]"
      ],
      "metadata": {
        "id": "g68-CnGhHIl_"
      },
      "execution_count": 113,
      "outputs": []
    },
    {
      "cell_type": "code",
      "source": [
        "recommend_products(\"headphones\")"
      ],
      "metadata": {
        "colab": {
          "base_uri": "https://localhost:8080/",
          "height": 206
        },
        "id": "2RiZPvqSHLDN",
        "outputId": "2104a404-b1e2-449e-cee0-babbeb4069c8"
      },
      "execution_count": 114,
      "outputs": [
        {
          "output_type": "execute_result",
          "data": {
            "text/plain": [
              "                                                  name        main_category  \\\n",
              "382  boAt BassHeads 100 in-Ear Wired Headphones wit...  tv, audio & cameras   \n",
              "77   boAt BassHeads 900 On-Ear Wired Headphones wit...  tv, audio & cameras   \n",
              "280  boAt Bassheads 100 Wired in Ear Earphones with...  tv, audio & cameras   \n",
              "209  boAt Bassheads 105 Wired in Ear Earphones with...  tv, audio & cameras   \n",
              "848  boAt Bassheads 100 Wired in Ear Earphones with...  tv, audio & cameras   \n",
              "\n",
              "        sub_category  ratings  discount_price  \n",
              "382  All Electronics      4.1           399.0  \n",
              "77   All Electronics      4.2           599.0  \n",
              "280  All Electronics      4.1           399.0  \n",
              "209  All Electronics      4.0           449.0  \n",
              "848  All Electronics      4.1           399.0  "
            ],
            "text/html": [
              "\n",
              "  <div id=\"df-5b19aae4-034a-4baf-88eb-c20505fd9f40\" class=\"colab-df-container\">\n",
              "    <div>\n",
              "<style scoped>\n",
              "    .dataframe tbody tr th:only-of-type {\n",
              "        vertical-align: middle;\n",
              "    }\n",
              "\n",
              "    .dataframe tbody tr th {\n",
              "        vertical-align: top;\n",
              "    }\n",
              "\n",
              "    .dataframe thead th {\n",
              "        text-align: right;\n",
              "    }\n",
              "</style>\n",
              "<table border=\"1\" class=\"dataframe\">\n",
              "  <thead>\n",
              "    <tr style=\"text-align: right;\">\n",
              "      <th></th>\n",
              "      <th>name</th>\n",
              "      <th>main_category</th>\n",
              "      <th>sub_category</th>\n",
              "      <th>ratings</th>\n",
              "      <th>discount_price</th>\n",
              "    </tr>\n",
              "  </thead>\n",
              "  <tbody>\n",
              "    <tr>\n",
              "      <th>382</th>\n",
              "      <td>boAt BassHeads 100 in-Ear Wired Headphones wit...</td>\n",
              "      <td>tv, audio &amp; cameras</td>\n",
              "      <td>All Electronics</td>\n",
              "      <td>4.1</td>\n",
              "      <td>399.0</td>\n",
              "    </tr>\n",
              "    <tr>\n",
              "      <th>77</th>\n",
              "      <td>boAt BassHeads 900 On-Ear Wired Headphones wit...</td>\n",
              "      <td>tv, audio &amp; cameras</td>\n",
              "      <td>All Electronics</td>\n",
              "      <td>4.2</td>\n",
              "      <td>599.0</td>\n",
              "    </tr>\n",
              "    <tr>\n",
              "      <th>280</th>\n",
              "      <td>boAt Bassheads 100 Wired in Ear Earphones with...</td>\n",
              "      <td>tv, audio &amp; cameras</td>\n",
              "      <td>All Electronics</td>\n",
              "      <td>4.1</td>\n",
              "      <td>399.0</td>\n",
              "    </tr>\n",
              "    <tr>\n",
              "      <th>209</th>\n",
              "      <td>boAt Bassheads 105 Wired in Ear Earphones with...</td>\n",
              "      <td>tv, audio &amp; cameras</td>\n",
              "      <td>All Electronics</td>\n",
              "      <td>4.0</td>\n",
              "      <td>449.0</td>\n",
              "    </tr>\n",
              "    <tr>\n",
              "      <th>848</th>\n",
              "      <td>boAt Bassheads 100 Wired in Ear Earphones with...</td>\n",
              "      <td>tv, audio &amp; cameras</td>\n",
              "      <td>All Electronics</td>\n",
              "      <td>4.1</td>\n",
              "      <td>399.0</td>\n",
              "    </tr>\n",
              "  </tbody>\n",
              "</table>\n",
              "</div>\n",
              "    <div class=\"colab-df-buttons\">\n",
              "\n",
              "  <div class=\"colab-df-container\">\n",
              "    <button class=\"colab-df-convert\" onclick=\"convertToInteractive('df-5b19aae4-034a-4baf-88eb-c20505fd9f40')\"\n",
              "            title=\"Convert this dataframe to an interactive table.\"\n",
              "            style=\"display:none;\">\n",
              "\n",
              "  <svg xmlns=\"http://www.w3.org/2000/svg\" height=\"24px\" viewBox=\"0 -960 960 960\">\n",
              "    <path d=\"M120-120v-720h720v720H120Zm60-500h600v-160H180v160Zm220 220h160v-160H400v160Zm0 220h160v-160H400v160ZM180-400h160v-160H180v160Zm440 0h160v-160H620v160ZM180-180h160v-160H180v160Zm440 0h160v-160H620v160Z\"/>\n",
              "  </svg>\n",
              "    </button>\n",
              "\n",
              "  <style>\n",
              "    .colab-df-container {\n",
              "      display:flex;\n",
              "      gap: 12px;\n",
              "    }\n",
              "\n",
              "    .colab-df-convert {\n",
              "      background-color: #E8F0FE;\n",
              "      border: none;\n",
              "      border-radius: 50%;\n",
              "      cursor: pointer;\n",
              "      display: none;\n",
              "      fill: #1967D2;\n",
              "      height: 32px;\n",
              "      padding: 0 0 0 0;\n",
              "      width: 32px;\n",
              "    }\n",
              "\n",
              "    .colab-df-convert:hover {\n",
              "      background-color: #E2EBFA;\n",
              "      box-shadow: 0px 1px 2px rgba(60, 64, 67, 0.3), 0px 1px 3px 1px rgba(60, 64, 67, 0.15);\n",
              "      fill: #174EA6;\n",
              "    }\n",
              "\n",
              "    .colab-df-buttons div {\n",
              "      margin-bottom: 4px;\n",
              "    }\n",
              "\n",
              "    [theme=dark] .colab-df-convert {\n",
              "      background-color: #3B4455;\n",
              "      fill: #D2E3FC;\n",
              "    }\n",
              "\n",
              "    [theme=dark] .colab-df-convert:hover {\n",
              "      background-color: #434B5C;\n",
              "      box-shadow: 0px 1px 3px 1px rgba(0, 0, 0, 0.15);\n",
              "      filter: drop-shadow(0px 1px 2px rgba(0, 0, 0, 0.3));\n",
              "      fill: #FFFFFF;\n",
              "    }\n",
              "  </style>\n",
              "\n",
              "    <script>\n",
              "      const buttonEl =\n",
              "        document.querySelector('#df-5b19aae4-034a-4baf-88eb-c20505fd9f40 button.colab-df-convert');\n",
              "      buttonEl.style.display =\n",
              "        google.colab.kernel.accessAllowed ? 'block' : 'none';\n",
              "\n",
              "      async function convertToInteractive(key) {\n",
              "        const element = document.querySelector('#df-5b19aae4-034a-4baf-88eb-c20505fd9f40');\n",
              "        const dataTable =\n",
              "          await google.colab.kernel.invokeFunction('convertToInteractive',\n",
              "                                                    [key], {});\n",
              "        if (!dataTable) return;\n",
              "\n",
              "        const docLinkHtml = 'Like what you see? Visit the ' +\n",
              "          '<a target=\"_blank\" href=https://colab.research.google.com/notebooks/data_table.ipynb>data table notebook</a>'\n",
              "          + ' to learn more about interactive tables.';\n",
              "        element.innerHTML = '';\n",
              "        dataTable['output_type'] = 'display_data';\n",
              "        await google.colab.output.renderOutput(dataTable, element);\n",
              "        const docLink = document.createElement('div');\n",
              "        docLink.innerHTML = docLinkHtml;\n",
              "        element.appendChild(docLink);\n",
              "      }\n",
              "    </script>\n",
              "  </div>\n",
              "\n",
              "\n",
              "    <div id=\"df-80c8c023-9976-4b38-85a8-781392c50be1\">\n",
              "      <button class=\"colab-df-quickchart\" onclick=\"quickchart('df-80c8c023-9976-4b38-85a8-781392c50be1')\"\n",
              "                title=\"Suggest charts\"\n",
              "                style=\"display:none;\">\n",
              "\n",
              "<svg xmlns=\"http://www.w3.org/2000/svg\" height=\"24px\"viewBox=\"0 0 24 24\"\n",
              "     width=\"24px\">\n",
              "    <g>\n",
              "        <path d=\"M19 3H5c-1.1 0-2 .9-2 2v14c0 1.1.9 2 2 2h14c1.1 0 2-.9 2-2V5c0-1.1-.9-2-2-2zM9 17H7v-7h2v7zm4 0h-2V7h2v10zm4 0h-2v-4h2v4z\"/>\n",
              "    </g>\n",
              "</svg>\n",
              "      </button>\n",
              "\n",
              "<style>\n",
              "  .colab-df-quickchart {\n",
              "      --bg-color: #E8F0FE;\n",
              "      --fill-color: #1967D2;\n",
              "      --hover-bg-color: #E2EBFA;\n",
              "      --hover-fill-color: #174EA6;\n",
              "      --disabled-fill-color: #AAA;\n",
              "      --disabled-bg-color: #DDD;\n",
              "  }\n",
              "\n",
              "  [theme=dark] .colab-df-quickchart {\n",
              "      --bg-color: #3B4455;\n",
              "      --fill-color: #D2E3FC;\n",
              "      --hover-bg-color: #434B5C;\n",
              "      --hover-fill-color: #FFFFFF;\n",
              "      --disabled-bg-color: #3B4455;\n",
              "      --disabled-fill-color: #666;\n",
              "  }\n",
              "\n",
              "  .colab-df-quickchart {\n",
              "    background-color: var(--bg-color);\n",
              "    border: none;\n",
              "    border-radius: 50%;\n",
              "    cursor: pointer;\n",
              "    display: none;\n",
              "    fill: var(--fill-color);\n",
              "    height: 32px;\n",
              "    padding: 0;\n",
              "    width: 32px;\n",
              "  }\n",
              "\n",
              "  .colab-df-quickchart:hover {\n",
              "    background-color: var(--hover-bg-color);\n",
              "    box-shadow: 0 1px 2px rgba(60, 64, 67, 0.3), 0 1px 3px 1px rgba(60, 64, 67, 0.15);\n",
              "    fill: var(--button-hover-fill-color);\n",
              "  }\n",
              "\n",
              "  .colab-df-quickchart-complete:disabled,\n",
              "  .colab-df-quickchart-complete:disabled:hover {\n",
              "    background-color: var(--disabled-bg-color);\n",
              "    fill: var(--disabled-fill-color);\n",
              "    box-shadow: none;\n",
              "  }\n",
              "\n",
              "  .colab-df-spinner {\n",
              "    border: 2px solid var(--fill-color);\n",
              "    border-color: transparent;\n",
              "    border-bottom-color: var(--fill-color);\n",
              "    animation:\n",
              "      spin 1s steps(1) infinite;\n",
              "  }\n",
              "\n",
              "  @keyframes spin {\n",
              "    0% {\n",
              "      border-color: transparent;\n",
              "      border-bottom-color: var(--fill-color);\n",
              "      border-left-color: var(--fill-color);\n",
              "    }\n",
              "    20% {\n",
              "      border-color: transparent;\n",
              "      border-left-color: var(--fill-color);\n",
              "      border-top-color: var(--fill-color);\n",
              "    }\n",
              "    30% {\n",
              "      border-color: transparent;\n",
              "      border-left-color: var(--fill-color);\n",
              "      border-top-color: var(--fill-color);\n",
              "      border-right-color: var(--fill-color);\n",
              "    }\n",
              "    40% {\n",
              "      border-color: transparent;\n",
              "      border-right-color: var(--fill-color);\n",
              "      border-top-color: var(--fill-color);\n",
              "    }\n",
              "    60% {\n",
              "      border-color: transparent;\n",
              "      border-right-color: var(--fill-color);\n",
              "    }\n",
              "    80% {\n",
              "      border-color: transparent;\n",
              "      border-right-color: var(--fill-color);\n",
              "      border-bottom-color: var(--fill-color);\n",
              "    }\n",
              "    90% {\n",
              "      border-color: transparent;\n",
              "      border-bottom-color: var(--fill-color);\n",
              "    }\n",
              "  }\n",
              "</style>\n",
              "\n",
              "      <script>\n",
              "        async function quickchart(key) {\n",
              "          const quickchartButtonEl =\n",
              "            document.querySelector('#' + key + ' button');\n",
              "          quickchartButtonEl.disabled = true;  // To prevent multiple clicks.\n",
              "          quickchartButtonEl.classList.add('colab-df-spinner');\n",
              "          try {\n",
              "            const charts = await google.colab.kernel.invokeFunction(\n",
              "                'suggestCharts', [key], {});\n",
              "          } catch (error) {\n",
              "            console.error('Error during call to suggestCharts:', error);\n",
              "          }\n",
              "          quickchartButtonEl.classList.remove('colab-df-spinner');\n",
              "          quickchartButtonEl.classList.add('colab-df-quickchart-complete');\n",
              "        }\n",
              "        (() => {\n",
              "          let quickchartButtonEl =\n",
              "            document.querySelector('#df-80c8c023-9976-4b38-85a8-781392c50be1 button');\n",
              "          quickchartButtonEl.style.display =\n",
              "            google.colab.kernel.accessAllowed ? 'block' : 'none';\n",
              "        })();\n",
              "      </script>\n",
              "    </div>\n",
              "\n",
              "    </div>\n",
              "  </div>\n"
            ],
            "application/vnd.google.colaboratory.intrinsic+json": {
              "type": "dataframe",
              "summary": "{\n  \"name\": \"recommend_products(\\\"headphones\\\")\",\n  \"rows\": 5,\n  \"fields\": [\n    {\n      \"column\": \"name\",\n      \"properties\": {\n        \"dtype\": \"string\",\n        \"num_unique_values\": 5,\n        \"samples\": [\n          \"boAt BassHeads 900 On-Ear Wired Headphones with Mic (White)\",\n          \"boAt Bassheads 100 Wired in Ear Earphones with Mic (Mint Orange)\",\n          \"boAt Bassheads 100 Wired in Ear Earphones with Mic (Mint Green)\"\n        ],\n        \"semantic_type\": \"\",\n        \"description\": \"\"\n      }\n    },\n    {\n      \"column\": \"main_category\",\n      \"properties\": {\n        \"dtype\": \"category\",\n        \"num_unique_values\": 1,\n        \"samples\": [\n          \"tv, audio & cameras\"\n        ],\n        \"semantic_type\": \"\",\n        \"description\": \"\"\n      }\n    },\n    {\n      \"column\": \"sub_category\",\n      \"properties\": {\n        \"dtype\": \"category\",\n        \"num_unique_values\": 1,\n        \"samples\": [\n          \"All Electronics\"\n        ],\n        \"semantic_type\": \"\",\n        \"description\": \"\"\n      }\n    },\n    {\n      \"column\": \"ratings\",\n      \"properties\": {\n        \"dtype\": \"number\",\n        \"std\": 0.07071067811865482,\n        \"min\": 4.0,\n        \"max\": 4.2,\n        \"num_unique_values\": 3,\n        \"samples\": [\n          4.1\n        ],\n        \"semantic_type\": \"\",\n        \"description\": \"\"\n      }\n    },\n    {\n      \"column\": \"discount_price\",\n      \"properties\": {\n        \"dtype\": \"number\",\n        \"std\": 86.60254037844386,\n        \"min\": 399.0,\n        \"max\": 599.0,\n        \"num_unique_values\": 3,\n        \"samples\": [\n          399.0\n        ],\n        \"semantic_type\": \"\",\n        \"description\": \"\"\n      }\n    }\n  ]\n}"
            }
          },
          "metadata": {},
          "execution_count": 114
        }
      ]
    },
    {
      "cell_type": "markdown",
      "source": [
        "## Evaluation"
      ],
      "metadata": {
        "id": "70sYsSXtH7sF"
      }
    },
    {
      "cell_type": "code",
      "source": [],
      "metadata": {
        "id": "Dq9SUg_4wor5"
      },
      "execution_count": null,
      "outputs": []
    },
    {
      "cell_type": "markdown",
      "source": [
        "Tahap evaluasi dilakukan untuk mengukur kemampuan sistem rekomendasi dalam menghasilkan produk yang relevan pada daftar Top-5 rekomendasi. Mengingat tidak tersedianya data interaksi pengguna secara eksplisit (seperti riwayat pembelian atau klik), pendekatan evaluasi yang digunakan adalah average rating dan hit rate pada 100 sampel produk. Hal ini bertujuan untuk mengevaluasi kualitas produk yang direkomendasikan berdasarkan penilaian pengguna secara umum."
      ],
      "metadata": {
        "id": "lON-PAAhNks6"
      }
    },
    {
      "cell_type": "markdown",
      "source": [
        "### Average Rating"
      ],
      "metadata": {
        "id": "yyfXptqQOyUJ"
      }
    },
    {
      "cell_type": "code",
      "source": [
        "# Ambil 100 sampel dan hitung rata-rata rating dari rekomendasinya\n",
        "sample_indices = np.random.choice(df.index, size=100, replace=False)\n",
        "scores = []\n",
        "\n",
        "for idx in sample_indices:\n",
        "    product_name = df.loc[idx, 'name']\n",
        "    recommendations = recommend_products(product_name, top_n=5)\n",
        "\n",
        "    if isinstance(recommendations, str):  # produk ga ketemu\n",
        "        continue\n",
        "\n",
        "    ratings = recommendations['ratings'].dropna()\n",
        "    if not ratings.empty:\n",
        "        avg_rating = ratings.mean()\n",
        "        scores.append(avg_rating)\n",
        "\n",
        "print(f\"Rata-rata rating dari hasil rekomendasi: {np.mean(scores):.2f}\")"
      ],
      "metadata": {
        "colab": {
          "base_uri": "https://localhost:8080/"
        },
        "id": "KBjyTavyOv0r",
        "outputId": "3a513ad8-2622-4241-d44d-b788a35769aa"
      },
      "execution_count": 115,
      "outputs": [
        {
          "output_type": "stream",
          "name": "stdout",
          "text": [
            "Rata-rata rating dari hasil rekomendasi: 4.02\n"
          ]
        }
      ]
    },
    {
      "cell_type": "markdown",
      "source": [
        "Berdasarkan hasil evaluasi, sistem rekomendasi menghasilkan rata-rata rating sebesar 4.02 pada produk-produk yang direkomendasikan. Nilai ini menunjukkan bahwa produk yang muncul dalam daftar Top-5 rekomendasi umumnya memiliki kualitas baik berdasarkan penilaian pengguna."
      ],
      "metadata": {
        "id": "a8SFhm4rdUiM"
      }
    },
    {
      "cell_type": "markdown",
      "source": [
        "### Hit Rate"
      ],
      "metadata": {
        "id": "GUztOjGUdHTT"
      }
    },
    {
      "cell_type": "code",
      "source": [
        "hit_count = 0\n",
        "total_sample = 0\n",
        "threshold = 3.5  # ambang batas rating layak\n",
        "\n",
        "for idx in sample_indices:\n",
        "    product_name = df.loc[idx, 'name']\n",
        "    recommendations = recommend_products(product_name, top_n=5)\n",
        "\n",
        "    if isinstance(recommendations, str):  # produk tidak ditemukan\n",
        "        continue\n",
        "\n",
        "    ratings = recommendations['ratings'].dropna()\n",
        "    if not ratings.empty:\n",
        "        total_sample += 1\n",
        "        if any(ratings >= threshold):\n",
        "            hit_count += 1\n",
        "\n",
        "hit_rate = hit_count / total_sample if total_sample > 0 else 0\n",
        "print(f\"Hit Rate (Top-5): {hit_rate:.2%}\")\n"
      ],
      "metadata": {
        "colab": {
          "base_uri": "https://localhost:8080/"
        },
        "id": "7xgzc1_6HMdg",
        "outputId": "72da5e09-3ab2-4f41-fdfe-eeb9f354540a"
      },
      "execution_count": 116,
      "outputs": [
        {
          "output_type": "stream",
          "name": "stdout",
          "text": [
            "Hit Rate (Top-5): 100.00%\n"
          ]
        }
      ]
    },
    {
      "cell_type": "markdown",
      "source": [
        "Selain itu, hit rate sebesar 100% menunjukkan bahwa dari 100 sampel produk yang diuji, seluruhnya berhasil menghasilkan minimal satu rekomendasi. Hal ini menunjukkan bahwa sistem memiliki cakupan (coverage) yang baik dan mampu memberikan rekomendasi serupa untuk sebagian besar produk di dalam dataset."
      ],
      "metadata": {
        "id": "lE0ABQKUdGOR"
      }
    },
    {
      "cell_type": "markdown",
      "source": [
        "## Conclusion"
      ],
      "metadata": {
        "id": "PgNmtvtUdjeR"
      }
    },
    {
      "cell_type": "markdown",
      "source": [
        "Pada proyek ini, telah dikembangkan sistem rekomendasi produk elektronik berbasis Content-Based Filtering (CBF) menggunakan data produk dari Amazon. Sistem menggunakan pendekatan text similarity dengan TF-IDF Vectorizer dan Cosine Similarity untuk mengukur kemiripan antar produk berdasarkan informasi teks seperti nama produk, kategori utama, dan subkategori.\n",
        "\n",
        "\n",
        "Berdasarkan evaluasi terhadap 100 sampel produk, model menghasilkan:\n",
        "\n",
        "\n",
        "- Average rating rekomendasi adalah 4.02, menunjukkan bahwa produk yang direkomendasikan tergolong berkualitas tinggi.\n",
        "\n",
        "\n",
        "- Hit Rate mencapai 100%, menunjukkan bahwa sistem dapat memberikan rekomendasi untuk seluruh sampel yang diuji.\n",
        "\n",
        "\n",
        "Secara keseluruhan, hasil evaluasi menunjukkan bahwa pendekatan CBF yang sederhana namun efektif ini mampu memberikan rekomendasi yang relevan dan berkualitas tinggi bahkan tanpa data interaksi pengguna."
      ],
      "metadata": {
        "id": "6DQRYQ8Jdomc"
      }
    }
  ]
}